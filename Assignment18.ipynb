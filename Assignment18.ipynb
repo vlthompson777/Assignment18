{
 "cells": [
  {
   "cell_type": "code",
   "execution_count": 1,
   "metadata": {},
   "outputs": [],
   "source": [
    "import numpy as np\n",
    "import scipy.stats as stats\n",
    "import matplotlib.pyplot as plt"
   ]
  },
  {
   "cell_type": "code",
   "execution_count": 8,
   "metadata": {},
   "outputs": [
    {
     "name": "stdout",
     "output_type": "stream",
     "text": [
      "Mean of females is 50.25. Mean of the males is 48.50\n",
      "t is equal to 0.35\n",
      "p is equal to 0.74\n",
      "The probability of there being a significant difference between genders is too low. There is no difference.\n"
     ]
    }
   ],
   "source": [
    "#1 Are gender and education level dependent at 5% level of significance?\n",
    "female = np.array([60,54,46,41])\n",
    "male = np.array([40,44,53,57])\n",
    "n = 4\n",
    "femalemean = np.mean(female)\n",
    "malemean = np.mean(male)\n",
    "print(\"Mean of females is {:.2f}. Mean of the males is {:.2f}\".format(femalemean,malemean))\n",
    "femalevar = np.var(female)\n",
    "malevar = np.var(male)\n",
    "MSE = (femalevar + malevar)/2\n",
    "standerror = np.sqrt((2*MSE)/n)\n",
    "t = (femalemean - malemean)/standerror\n",
    "print(\"t is equal to {:.2f}\".format(t))\n",
    "df = (4-1)+(4-1)\n",
    "p = 1 - stats.t.cdf(t,df=df)\n",
    "print (\"p is equal to {:.2f}\".format(2*p))\n",
    "print(\"The probability of there being a significant difference between genders is too low. There is no difference.\")"
   ]
  },
  {
   "cell_type": "code",
   "execution_count": 45,
   "metadata": {},
   "outputs": [
    {
     "name": "stdout",
     "output_type": "stream",
     "text": [
      "The F Critial value is 3.89\n",
      "The F Score is equal to 9.75\n",
      "The F Score is greater than the F Critial value.  So the Null Hypothesis is rejected.\n",
      "There is a significant difference between the three groups.\n"
     ]
    }
   ],
   "source": [
    "#2 perform a oneway analysis of variance using α=.05.\n",
    "#I'm going to do the math the long way to gain familiarity with the math instead of using builtin functions\n",
    "group1 = np.array([51, 45, 33, 45, 67])\n",
    "group2 = np.array([23, 43, 23, 43, 45])\n",
    "group3 = np.array([56, 76, 74, 87, 56])\n",
    "k=3\n",
    "N = 15\n",
    "dfb = k-1  #dfbetween\n",
    "dfw = N-k  #dfwithin\n",
    "dftotal = dfb + dfw\n",
    "Fcrit = 3.89\n",
    "print(\"The F Critial value is {:.2f}\".format(Fcrit))\n",
    "group1mean = np.mean(group1)\n",
    "group2mean = np.mean(group2)\n",
    "group3mean = np.mean(group3)\n",
    "GrandMean = (np.sum(group1)+np.sum(group2)+np.sum(group3))/N\n",
    "group1sst = sum((value-GrandMean)**2 for value in group1)\n",
    "group2sst = sum((value-GrandMean)**2 for value in group2)\n",
    "group3sst = sum((value-GrandMean)**2 for value in group3)\n",
    "SSTotal = group1sst + group2sst + group3sst\n",
    "group1ssw = sum((value-group1mean)**2 for value in group1)\n",
    "group2ssw = sum((value-group2mean)**2 for value in group2)\n",
    "group3ssw = sum((value-group3mean)**2 for value in group3)\n",
    "SSWithin = group1ssw + group2ssw + group3ssw\n",
    "SSBetween = SSTotal - SSWithin\n",
    "MSBetween = SSBetween/dfb\n",
    "MSWithin = SSWithin/dfw\n",
    "F = MSBetween/MSWithin\n",
    "print(\"The F Score is equal to {:.2f}\".format(F))\n",
    "print(\"The F Score is greater than the F Critial value.  So the Null Hypothesis is rejected.\")\n",
    "print(\"There is a significant difference between the three groups.\")"
   ]
  },
  {
   "cell_type": "code",
   "execution_count": 32,
   "metadata": {},
   "outputs": [
    {
     "name": "stdout",
     "output_type": "stream",
     "text": [
      "The variance of group1 is 200.00.  The variance of group2 is 50.00\n",
      "The F statistic is 4.00\n",
      "The F Critical value is 5.38\n",
      "The F statistic 4.00 is less than the F Critical value 5.38.\n",
      "Assuming an alpha of 0.05, the null hypothesis cannot be rejected.\n"
     ]
    }
   ],
   "source": [
    "#3 Calculate F Test for given\n",
    "group1 = np.array([10,20,30,40,50])\n",
    "group2 = np.array([5,10,15,20,25])\n",
    "var1 = np.var(group1)\n",
    "var2 = np.var(group2)\n",
    "print(\"The variance of group1 is {:.2f}.  The variance of group2 is {:.2f}\".format(var1,var2))\n",
    "F = var1/var2\n",
    "print(\"The F statistic is {:.2f}\".format(F))\n",
    "dfB = (2-1) #degrees of freedom between\n",
    "dfW = (10-2) #degrees of freedom within\n",
    "FCrit = 5.38\n",
    "print(\"The F Critical value is {:.2f}\".format(FCrit))\n",
    "print(\"The F statistic {:.2f} is less than the F Critical value {:.2f}.\".format(F,FCrit))\n",
    "print(\"Assuming an alpha of 0.05, the null hypothesis cannot be rejected.\")"
   ]
  }
 ],
 "metadata": {
  "kernelspec": {
   "display_name": "Python 3",
   "language": "python",
   "name": "python3"
  },
  "language_info": {
   "codemirror_mode": {
    "name": "ipython",
    "version": 3
   },
   "file_extension": ".py",
   "mimetype": "text/x-python",
   "name": "python",
   "nbconvert_exporter": "python",
   "pygments_lexer": "ipython3",
   "version": "3.7.0"
  }
 },
 "nbformat": 4,
 "nbformat_minor": 2
}
